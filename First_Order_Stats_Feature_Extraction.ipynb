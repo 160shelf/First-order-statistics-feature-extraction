{
 "cells": [
  {
   "cell_type": "markdown",
   "id": "f6f2d547-85d4-4cd3-b686-3321a2d5f481",
   "metadata": {},
   "source": [
    " # Simple Image Classification using First Order Statistic Features and SVM Classifier"
   ]
  },
  {
   "cell_type": "markdown",
   "id": "1b929cb9-5b29-432b-b28c-1e1a610f9ba7",
   "metadata": {},
   "source": [
    "The following program classifies the Satellite Images divided into 4 classes: cloudy, desert, green_area, and water. <br>\n",
    "Data source : https://www.kaggle.com/mahmoudreda55/satellite-image-classification <br>\n",
    "The following steps are applied in this program:\n",
    "1. Import necessary modules\n",
    "2. Calculate the first order statistics features (mean and standard deviation)\n",
    "3. Split train and test data\n",
    "4. Classification\n",
    "The last function returns the accuracy of the model.<br>"
   ]
  },
  {
   "cell_type": "code",
   "execution_count": 102,
   "id": "3ebd4946-5aa7-423c-b641-658ae1efc2af",
   "metadata": {},
   "outputs": [],
   "source": [
    "#Import Libraries\n",
    "import os\n",
    "from os import listdir\n",
    "from skimage import io\n",
    "import numpy as np\n",
    "import pandas as pd\n",
    "from sklearn.svm import SVC, LinearSVC\n",
    "from sklearn.metrics import accuracy_score\n",
    "from sklearn.model_selection import train_test_split"
   ]
  },
  {
   "cell_type": "markdown",
   "id": "89fba7ad-c57a-4dce-a052-26567a348c67",
   "metadata": {},
   "source": [
    "First Order Statistic Feature Extraction (mean, std)"
   ]
  },
  {
   "cell_type": "code",
   "execution_count": 103,
   "id": "5948a723-3a9b-4f9f-a943-930449f6062c",
   "metadata": {},
   "outputs": [],
   "source": [
    "#Statistic feature extraction\n",
    "def stats(folder_dir):\n",
    "    mean = []\n",
    "    std = []\n",
    "    y = []\n",
    "    for folder in folder_dir:\n",
    "        for images in os.listdir(folder):\n",
    "            if images.endswith('.jpeg') or images.endswith('.jpg'):\n",
    "                image = io.imread(folder+images)\n",
    "                mean_temp = np.mean(image)\n",
    "                std_temp = np.std(image)\n",
    "                mean.append(mean_temp)\n",
    "                std.append(std_temp)\n",
    "                if folder[-2] == 'y':\n",
    "                    y.append(0)\n",
    "                elif folder[-2] == 't':\n",
    "                    y.append(1)\n",
    "                elif folder[-2] == 'a':\n",
    "                    y.append(2)\n",
    "                else:\n",
    "                    y.append(3)\n",
    "    return mean, std, y"
   ]
  },
  {
   "cell_type": "code",
   "execution_count": 104,
   "id": "1cbb9188-9bb9-49ce-9956-6c9a23a3550c",
   "metadata": {
    "tags": []
   },
   "outputs": [],
   "source": [
    "folder_dir = [\"cloudy/\", \"desert/\", 'green_area/', 'water/']\n",
    "mean, std, y = stats(folder_dir)"
   ]
  },
  {
   "cell_type": "code",
   "execution_count": 105,
   "id": "c6941c5b-7b39-4cb1-b572-454e5a1fef99",
   "metadata": {},
   "outputs": [],
   "source": [
    "#Split Train and Test Data\n",
    "#1 Merge mean and std obtained from the previous function\n",
    "data = pd.DataFrame()\n",
    "data['mean'] = mean\n",
    "data['std'] = std\n",
    "#2 Split data into train and test data\n",
    "x_train, x_test, y_train, y_test = train_test_split(data, y)"
   ]
  },
  {
   "cell_type": "code",
   "execution_count": 106,
   "id": "cb0de935-3d69-475d-841a-a686e4e93bb8",
   "metadata": {},
   "outputs": [],
   "source": [
    "#SVM Classifier, returns the accuracy\n",
    "def svm_pred(x_train, y_train, x_test, y_test):\n",
    "    svm_model = SVC()\n",
    "    svm_model.fit(x_train, y_train)\n",
    "    svm_pred = svm_model.predict(x_test)\n",
    "    svm_acc=accuracy_score(y_test, svm_pred)\n",
    "    return svm_acc"
   ]
  },
  {
   "cell_type": "code",
   "execution_count": 107,
   "id": "599a6a7b-184f-49d5-a143-6e6ffa16b65a",
   "metadata": {},
   "outputs": [
    {
     "data": {
      "text/plain": [
       "0.8295454545454546"
      ]
     },
     "execution_count": 107,
     "metadata": {},
     "output_type": "execute_result"
    }
   ],
   "source": [
    "svm_pred(x_train, y_train, x_test, y_test)"
   ]
  }
 ],
 "metadata": {
  "kernelspec": {
   "display_name": "Python 3",
   "language": "python",
   "name": "python3"
  },
  "language_info": {
   "codemirror_mode": {
    "name": "ipython",
    "version": 3
   },
   "file_extension": ".py",
   "mimetype": "text/x-python",
   "name": "python",
   "nbconvert_exporter": "python",
   "pygments_lexer": "ipython3",
   "version": "3.8.8"
  }
 },
 "nbformat": 4,
 "nbformat_minor": 5
}
